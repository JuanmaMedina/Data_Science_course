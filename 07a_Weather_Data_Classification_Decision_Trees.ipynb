{
 "cells": [
  {
   "cell_type": "markdown",
   "metadata": {
    "collapsed": true
   },
   "source": [
    "<p style=\"font-family: Arial; font-size:2.75em;color:purple; font-style:bold\">\n",
    "\n",
    "Classification of Weather Data <br><br>\n",
    "using scikit-learn\n",
    "<br><br>\n",
    "</p>"
   ]
  },
  {
   "cell_type": "markdown",
   "metadata": {},
   "source": [
    "<p style=\"font-family: Arial; font-size:1.75em;color:purple; font-style:bold\"><br>\n",
    "Daily Weather Data Analysis</p>\n",
    "\n",
    "In this notebook, we will use scikit-learn to perform a decision tree based classification of weather data."
   ]
  },
  {
   "cell_type": "markdown",
   "metadata": {},
   "source": [
    "<p style=\"font-family: Arial; font-size:1.75em;color:purple; font-style:bold\"><br>\n",
    "\n",
    "Importing the Necessary Libraries<br></p>"
   ]
  },
  {
   "cell_type": "code",
   "execution_count": 14,
   "metadata": {},
   "outputs": [],
   "source": [
    "import pandas as pd\n",
    "from sklearn.metrics import accuracy_score\n",
    "from sklearn.model_selection import train_test_split\n",
    "from sklearn.tree import DecisionTreeClassifier"
   ]
  },
  {
   "cell_type": "markdown",
   "metadata": {},
   "source": [
    "<p style=\"font-family: Arial; font-size:1.75em;color:purple; font-style:bold\"><br>\n",
    "\n",
    "Creating a Pandas DataFrame from a CSV file<br></p>\n"
   ]
  },
  {
   "cell_type": "code",
   "execution_count": 15,
   "metadata": {},
   "outputs": [],
   "source": [
    "data = pd.read_csv('./data_EDX_course/daily_weather_SCIKIT.csv')"
   ]
  },
  {
   "cell_type": "markdown",
   "metadata": {},
   "source": [
    "<p style=\"font-family: Arial; font-size:1.75em;color:purple; font-style:bold\">Daily Weather Data Description</p>\n",
    "<br>\n",
    "The file **daily_weather.csv** is a comma-separated file that contains weather data.  This data comes from a weather station located in San Diego, California.  The weather station is equipped with sensors that capture weather-related measurements such as air temperature, air pressure, and relative humidity.  Data was collected for a period of three years, from September 2011 to September 2014, to ensure that sufficient data for different seasons and weather conditions is captured.<br><br>\n",
    "Let's now check all the columns in the data."
   ]
  },
  {
   "cell_type": "code",
   "execution_count": 16,
   "metadata": {},
   "outputs": [
    {
     "data": {
      "text/plain": [
       "Index(['number', 'air_pressure_9am', 'air_temp_9am', 'avg_wind_direction_9am',\n",
       "       'avg_wind_speed_9am', 'max_wind_direction_9am', 'max_wind_speed_9am',\n",
       "       'rain_accumulation_9am', 'rain_duration_9am', 'relative_humidity_9am',\n",
       "       'relative_humidity_3pm'],\n",
       "      dtype='object')"
      ]
     },
     "execution_count": 16,
     "metadata": {},
     "output_type": "execute_result"
    }
   ],
   "source": [
    "data.columns"
   ]
  },
  {
   "cell_type": "markdown",
   "metadata": {},
   "source": [
    "<br>Each row in daily_weather.csv captures weather data for a separate day.  <br><br>\n",
    "Sensor measurements from the weather station were captured at one-minute intervals.  These measurements were then processed to generate values to describe daily weather. Since this dataset was created to classify low-humidity days vs. non-low-humidity days (that is, days with normal or high humidity), the variables included are weather measurements in the morning, with one measurement, namely relatively humidity, in the afternoon.  The idea is to use the morning weather values to predict whether the day will be low-humidity or not based on the afternoon measurement of relative humidity.\n",
    "\n",
    "Each row, or sample, consists of the following variables:\n",
    "\n",
    "* **number:** unique number for each row\n",
    "* **air_pressure_9am:** air pressure averaged over a period from 8:55am to 9:04am (*Unit: hectopascals*)\n",
    "* **air_temp_9am:** air temperature averaged over a period from 8:55am to 9:04am (*Unit: degrees Fahrenheit*)\n",
    "* **air_wind_direction_9am:** wind direction averaged over a period from 8:55am to 9:04am (*Unit: degrees, with 0 means coming from the North, and increasing clockwise*)\n",
    "* **air_wind_speed_9am:** wind speed averaged over a period from 8:55am to 9:04am (*Unit: miles per hour*)\n",
    "* ** max_wind_direction_9am:** wind gust direction averaged over a period from 8:55am to 9:10am (*Unit: degrees, with 0 being North and increasing clockwise*)\n",
    "* **max_wind_speed_9am:** wind gust speed averaged over a period from 8:55am to 9:04am (*Unit: miles per hour*)\n",
    "* **rain_accumulation_9am:** amount of rain accumulated in the 24 hours prior to 9am (*Unit: millimeters*)\n",
    "* **rain_duration_9am:** amount of time rain was recorded in the 24 hours prior to 9am (*Unit: seconds*)\n",
    "* **relative_humidity_9am:** relative humidity averaged over a period from 8:55am to 9:04am (*Unit: percent*)\n",
    "* **relative_humidity_3pm:** relative humidity averaged over a period from 2:55pm to 3:04pm (*Unit: percent *)\n"
   ]
  },
  {
   "cell_type": "code",
   "execution_count": 17,
   "metadata": {},
   "outputs": [
    {
     "data": {
      "text/html": [
       "<div>\n",
       "<style scoped>\n",
       "    .dataframe tbody tr th:only-of-type {\n",
       "        vertical-align: middle;\n",
       "    }\n",
       "\n",
       "    .dataframe tbody tr th {\n",
       "        vertical-align: top;\n",
       "    }\n",
       "\n",
       "    .dataframe thead th {\n",
       "        text-align: right;\n",
       "    }\n",
       "</style>\n",
       "<table border=\"1\" class=\"dataframe\">\n",
       "  <thead>\n",
       "    <tr style=\"text-align: right;\">\n",
       "      <th></th>\n",
       "      <th>number</th>\n",
       "      <th>air_pressure_9am</th>\n",
       "      <th>air_temp_9am</th>\n",
       "      <th>avg_wind_direction_9am</th>\n",
       "      <th>avg_wind_speed_9am</th>\n",
       "      <th>max_wind_direction_9am</th>\n",
       "      <th>max_wind_speed_9am</th>\n",
       "      <th>rain_accumulation_9am</th>\n",
       "      <th>rain_duration_9am</th>\n",
       "      <th>relative_humidity_9am</th>\n",
       "      <th>relative_humidity_3pm</th>\n",
       "    </tr>\n",
       "  </thead>\n",
       "  <tbody>\n",
       "    <tr>\n",
       "      <th>0</th>\n",
       "      <td>0</td>\n",
       "      <td>918.060000</td>\n",
       "      <td>74.822000</td>\n",
       "      <td>271.100000</td>\n",
       "      <td>2.080354</td>\n",
       "      <td>295.400000</td>\n",
       "      <td>2.863283</td>\n",
       "      <td>0.0</td>\n",
       "      <td>0.0</td>\n",
       "      <td>42.420000</td>\n",
       "      <td>36.160000</td>\n",
       "    </tr>\n",
       "    <tr>\n",
       "      <th>1</th>\n",
       "      <td>1</td>\n",
       "      <td>917.347688</td>\n",
       "      <td>71.403843</td>\n",
       "      <td>101.935179</td>\n",
       "      <td>2.443009</td>\n",
       "      <td>140.471548</td>\n",
       "      <td>3.533324</td>\n",
       "      <td>0.0</td>\n",
       "      <td>0.0</td>\n",
       "      <td>24.328697</td>\n",
       "      <td>19.426597</td>\n",
       "    </tr>\n",
       "    <tr>\n",
       "      <th>2</th>\n",
       "      <td>2</td>\n",
       "      <td>923.040000</td>\n",
       "      <td>60.638000</td>\n",
       "      <td>51.000000</td>\n",
       "      <td>17.067852</td>\n",
       "      <td>63.700000</td>\n",
       "      <td>22.100967</td>\n",
       "      <td>0.0</td>\n",
       "      <td>20.0</td>\n",
       "      <td>8.900000</td>\n",
       "      <td>14.460000</td>\n",
       "    </tr>\n",
       "    <tr>\n",
       "      <th>3</th>\n",
       "      <td>3</td>\n",
       "      <td>920.502751</td>\n",
       "      <td>70.138895</td>\n",
       "      <td>198.832133</td>\n",
       "      <td>4.337363</td>\n",
       "      <td>211.203341</td>\n",
       "      <td>5.190045</td>\n",
       "      <td>0.0</td>\n",
       "      <td>0.0</td>\n",
       "      <td>12.189102</td>\n",
       "      <td>12.742547</td>\n",
       "    </tr>\n",
       "    <tr>\n",
       "      <th>4</th>\n",
       "      <td>4</td>\n",
       "      <td>921.160000</td>\n",
       "      <td>44.294000</td>\n",
       "      <td>277.800000</td>\n",
       "      <td>1.856660</td>\n",
       "      <td>136.500000</td>\n",
       "      <td>2.863283</td>\n",
       "      <td>8.9</td>\n",
       "      <td>14730.0</td>\n",
       "      <td>92.410000</td>\n",
       "      <td>76.740000</td>\n",
       "    </tr>\n",
       "  </tbody>\n",
       "</table>\n",
       "</div>"
      ],
      "text/plain": [
       "   number  air_pressure_9am  air_temp_9am  avg_wind_direction_9am  \\\n",
       "0       0        918.060000     74.822000              271.100000   \n",
       "1       1        917.347688     71.403843              101.935179   \n",
       "2       2        923.040000     60.638000               51.000000   \n",
       "3       3        920.502751     70.138895              198.832133   \n",
       "4       4        921.160000     44.294000              277.800000   \n",
       "\n",
       "   avg_wind_speed_9am  max_wind_direction_9am  max_wind_speed_9am  \\\n",
       "0            2.080354              295.400000            2.863283   \n",
       "1            2.443009              140.471548            3.533324   \n",
       "2           17.067852               63.700000           22.100967   \n",
       "3            4.337363              211.203341            5.190045   \n",
       "4            1.856660              136.500000            2.863283   \n",
       "\n",
       "   rain_accumulation_9am  rain_duration_9am  relative_humidity_9am  \\\n",
       "0                    0.0                0.0              42.420000   \n",
       "1                    0.0                0.0              24.328697   \n",
       "2                    0.0               20.0               8.900000   \n",
       "3                    0.0                0.0              12.189102   \n",
       "4                    8.9            14730.0              92.410000   \n",
       "\n",
       "   relative_humidity_3pm  \n",
       "0              36.160000  \n",
       "1              19.426597  \n",
       "2              14.460000  \n",
       "3              12.742547  \n",
       "4              76.740000  "
      ]
     },
     "execution_count": 17,
     "metadata": {},
     "output_type": "execute_result"
    }
   ],
   "source": [
    "data.head()"
   ]
  },
  {
   "cell_type": "code",
   "execution_count": 18,
   "metadata": {},
   "outputs": [
    {
     "data": {
      "text/html": [
       "<div>\n",
       "<style scoped>\n",
       "    .dataframe tbody tr th:only-of-type {\n",
       "        vertical-align: middle;\n",
       "    }\n",
       "\n",
       "    .dataframe tbody tr th {\n",
       "        vertical-align: top;\n",
       "    }\n",
       "\n",
       "    .dataframe thead th {\n",
       "        text-align: right;\n",
       "    }\n",
       "</style>\n",
       "<table border=\"1\" class=\"dataframe\">\n",
       "  <thead>\n",
       "    <tr style=\"text-align: right;\">\n",
       "      <th></th>\n",
       "      <th>number</th>\n",
       "      <th>air_pressure_9am</th>\n",
       "      <th>air_temp_9am</th>\n",
       "      <th>avg_wind_direction_9am</th>\n",
       "      <th>avg_wind_speed_9am</th>\n",
       "      <th>max_wind_direction_9am</th>\n",
       "      <th>max_wind_speed_9am</th>\n",
       "      <th>rain_accumulation_9am</th>\n",
       "      <th>rain_duration_9am</th>\n",
       "      <th>relative_humidity_9am</th>\n",
       "      <th>relative_humidity_3pm</th>\n",
       "    </tr>\n",
       "  </thead>\n",
       "  <tbody>\n",
       "    <tr>\n",
       "      <th>16</th>\n",
       "      <td>16</td>\n",
       "      <td>917.890000</td>\n",
       "      <td>NaN</td>\n",
       "      <td>169.200000</td>\n",
       "      <td>2.192201</td>\n",
       "      <td>196.800000</td>\n",
       "      <td>2.930391</td>\n",
       "      <td>0.000</td>\n",
       "      <td>0.000000</td>\n",
       "      <td>48.990000</td>\n",
       "      <td>51.190000</td>\n",
       "    </tr>\n",
       "    <tr>\n",
       "      <th>111</th>\n",
       "      <td>111</td>\n",
       "      <td>915.290000</td>\n",
       "      <td>58.820000</td>\n",
       "      <td>182.600000</td>\n",
       "      <td>15.613841</td>\n",
       "      <td>189.000000</td>\n",
       "      <td>NaN</td>\n",
       "      <td>0.000</td>\n",
       "      <td>0.000000</td>\n",
       "      <td>21.500000</td>\n",
       "      <td>29.690000</td>\n",
       "    </tr>\n",
       "    <tr>\n",
       "      <th>177</th>\n",
       "      <td>177</td>\n",
       "      <td>915.900000</td>\n",
       "      <td>NaN</td>\n",
       "      <td>183.300000</td>\n",
       "      <td>4.719943</td>\n",
       "      <td>189.900000</td>\n",
       "      <td>5.346287</td>\n",
       "      <td>0.000</td>\n",
       "      <td>0.000000</td>\n",
       "      <td>29.260000</td>\n",
       "      <td>46.500000</td>\n",
       "    </tr>\n",
       "    <tr>\n",
       "      <th>262</th>\n",
       "      <td>262</td>\n",
       "      <td>923.596607</td>\n",
       "      <td>58.380598</td>\n",
       "      <td>47.737753</td>\n",
       "      <td>10.636273</td>\n",
       "      <td>67.145843</td>\n",
       "      <td>13.671423</td>\n",
       "      <td>0.000</td>\n",
       "      <td>NaN</td>\n",
       "      <td>17.990876</td>\n",
       "      <td>16.461685</td>\n",
       "    </tr>\n",
       "    <tr>\n",
       "      <th>277</th>\n",
       "      <td>277</td>\n",
       "      <td>920.480000</td>\n",
       "      <td>62.600000</td>\n",
       "      <td>194.400000</td>\n",
       "      <td>2.751436</td>\n",
       "      <td>NaN</td>\n",
       "      <td>3.869906</td>\n",
       "      <td>0.000</td>\n",
       "      <td>0.000000</td>\n",
       "      <td>52.580000</td>\n",
       "      <td>54.030000</td>\n",
       "    </tr>\n",
       "    <tr>\n",
       "      <th>334</th>\n",
       "      <td>334</td>\n",
       "      <td>916.230000</td>\n",
       "      <td>75.740000</td>\n",
       "      <td>149.100000</td>\n",
       "      <td>2.751436</td>\n",
       "      <td>187.500000</td>\n",
       "      <td>4.183078</td>\n",
       "      <td>NaN</td>\n",
       "      <td>1480.000000</td>\n",
       "      <td>31.880000</td>\n",
       "      <td>32.900000</td>\n",
       "    </tr>\n",
       "    <tr>\n",
       "      <th>358</th>\n",
       "      <td>358</td>\n",
       "      <td>917.440000</td>\n",
       "      <td>58.514000</td>\n",
       "      <td>55.100000</td>\n",
       "      <td>10.021491</td>\n",
       "      <td>NaN</td>\n",
       "      <td>12.705819</td>\n",
       "      <td>0.000</td>\n",
       "      <td>0.000000</td>\n",
       "      <td>13.880000</td>\n",
       "      <td>25.930000</td>\n",
       "    </tr>\n",
       "    <tr>\n",
       "      <th>361</th>\n",
       "      <td>361</td>\n",
       "      <td>920.444946</td>\n",
       "      <td>65.801845</td>\n",
       "      <td>49.823346</td>\n",
       "      <td>21.520177</td>\n",
       "      <td>61.886944</td>\n",
       "      <td>25.549112</td>\n",
       "      <td>NaN</td>\n",
       "      <td>40.364018</td>\n",
       "      <td>12.278715</td>\n",
       "      <td>7.618649</td>\n",
       "    </tr>\n",
       "    <tr>\n",
       "      <th>381</th>\n",
       "      <td>381</td>\n",
       "      <td>918.480000</td>\n",
       "      <td>66.542000</td>\n",
       "      <td>90.900000</td>\n",
       "      <td>3.467257</td>\n",
       "      <td>89.400000</td>\n",
       "      <td>4.406772</td>\n",
       "      <td>NaN</td>\n",
       "      <td>0.000000</td>\n",
       "      <td>20.640000</td>\n",
       "      <td>14.350000</td>\n",
       "    </tr>\n",
       "    <tr>\n",
       "      <th>409</th>\n",
       "      <td>409</td>\n",
       "      <td>NaN</td>\n",
       "      <td>67.853833</td>\n",
       "      <td>65.880616</td>\n",
       "      <td>4.328594</td>\n",
       "      <td>78.570923</td>\n",
       "      <td>5.216734</td>\n",
       "      <td>0.000</td>\n",
       "      <td>0.000000</td>\n",
       "      <td>18.487385</td>\n",
       "      <td>20.356594</td>\n",
       "    </tr>\n",
       "    <tr>\n",
       "      <th>517</th>\n",
       "      <td>517</td>\n",
       "      <td>920.570000</td>\n",
       "      <td>53.600000</td>\n",
       "      <td>100.100000</td>\n",
       "      <td>4.697574</td>\n",
       "      <td>NaN</td>\n",
       "      <td>6.285801</td>\n",
       "      <td>4.712</td>\n",
       "      <td>14842.000000</td>\n",
       "      <td>79.880000</td>\n",
       "      <td>84.530000</td>\n",
       "    </tr>\n",
       "    <tr>\n",
       "      <th>519</th>\n",
       "      <td>519</td>\n",
       "      <td>916.250000</td>\n",
       "      <td>55.670000</td>\n",
       "      <td>176.400000</td>\n",
       "      <td>6.666081</td>\n",
       "      <td>188.200000</td>\n",
       "      <td>NaN</td>\n",
       "      <td>0.000</td>\n",
       "      <td>0.000000</td>\n",
       "      <td>72.550000</td>\n",
       "      <td>74.390000</td>\n",
       "    </tr>\n",
       "    <tr>\n",
       "      <th>546</th>\n",
       "      <td>546</td>\n",
       "      <td>NaN</td>\n",
       "      <td>42.746000</td>\n",
       "      <td>251.100000</td>\n",
       "      <td>12.929513</td>\n",
       "      <td>274.400000</td>\n",
       "      <td>17.604718</td>\n",
       "      <td>14.627</td>\n",
       "      <td>7825.000000</td>\n",
       "      <td>87.870000</td>\n",
       "      <td>70.770000</td>\n",
       "    </tr>\n",
       "    <tr>\n",
       "      <th>620</th>\n",
       "      <td>620</td>\n",
       "      <td>921.200000</td>\n",
       "      <td>56.786000</td>\n",
       "      <td>192.300000</td>\n",
       "      <td>9.551734</td>\n",
       "      <td>201.400000</td>\n",
       "      <td>11.005745</td>\n",
       "      <td>NaN</td>\n",
       "      <td>0.000000</td>\n",
       "      <td>59.790000</td>\n",
       "      <td>77.750000</td>\n",
       "    </tr>\n",
       "    <tr>\n",
       "      <th>625</th>\n",
       "      <td>625</td>\n",
       "      <td>912.400000</td>\n",
       "      <td>50.774000</td>\n",
       "      <td>171.600000</td>\n",
       "      <td>NaN</td>\n",
       "      <td>181.400000</td>\n",
       "      <td>4.831790</td>\n",
       "      <td>0.000</td>\n",
       "      <td>0.000000</td>\n",
       "      <td>86.840000</td>\n",
       "      <td>64.740000</td>\n",
       "    </tr>\n",
       "    <tr>\n",
       "      <th>656</th>\n",
       "      <td>656</td>\n",
       "      <td>920.830000</td>\n",
       "      <td>66.344000</td>\n",
       "      <td>NaN</td>\n",
       "      <td>15.457255</td>\n",
       "      <td>189.400000</td>\n",
       "      <td>16.486248</td>\n",
       "      <td>0.000</td>\n",
       "      <td>0.000000</td>\n",
       "      <td>23.770000</td>\n",
       "      <td>51.630000</td>\n",
       "    </tr>\n",
       "    <tr>\n",
       "      <th>670</th>\n",
       "      <td>670</td>\n",
       "      <td>910.920000</td>\n",
       "      <td>48.362000</td>\n",
       "      <td>156.500000</td>\n",
       "      <td>NaN</td>\n",
       "      <td>177.500000</td>\n",
       "      <td>16.128337</td>\n",
       "      <td>4.970</td>\n",
       "      <td>10560.000000</td>\n",
       "      <td>80.560000</td>\n",
       "      <td>88.220000</td>\n",
       "    </tr>\n",
       "    <tr>\n",
       "      <th>672</th>\n",
       "      <td>672</td>\n",
       "      <td>922.448945</td>\n",
       "      <td>72.863773</td>\n",
       "      <td>NaN</td>\n",
       "      <td>3.682370</td>\n",
       "      <td>214.196160</td>\n",
       "      <td>4.849450</td>\n",
       "      <td>0.000</td>\n",
       "      <td>0.000000</td>\n",
       "      <td>16.753670</td>\n",
       "      <td>17.804720</td>\n",
       "    </tr>\n",
       "    <tr>\n",
       "      <th>705</th>\n",
       "      <td>705</td>\n",
       "      <td>911.900000</td>\n",
       "      <td>59.072000</td>\n",
       "      <td>199.800000</td>\n",
       "      <td>1.275056</td>\n",
       "      <td>239.500000</td>\n",
       "      <td>1.834291</td>\n",
       "      <td>NaN</td>\n",
       "      <td>0.000000</td>\n",
       "      <td>77.630000</td>\n",
       "      <td>59.130000</td>\n",
       "    </tr>\n",
       "    <tr>\n",
       "      <th>731</th>\n",
       "      <td>731</td>\n",
       "      <td>922.970166</td>\n",
       "      <td>51.391847</td>\n",
       "      <td>33.810942</td>\n",
       "      <td>NaN</td>\n",
       "      <td>59.290089</td>\n",
       "      <td>11.111555</td>\n",
       "      <td>0.000</td>\n",
       "      <td>4.735034</td>\n",
       "      <td>34.807753</td>\n",
       "      <td>18.418179</td>\n",
       "    </tr>\n",
       "    <tr>\n",
       "      <th>737</th>\n",
       "      <td>737</td>\n",
       "      <td>917.895130</td>\n",
       "      <td>76.804690</td>\n",
       "      <td>104.771020</td>\n",
       "      <td>1.632705</td>\n",
       "      <td>97.178763</td>\n",
       "      <td>NaN</td>\n",
       "      <td>0.000</td>\n",
       "      <td>0.000000</td>\n",
       "      <td>13.771311</td>\n",
       "      <td>16.792455</td>\n",
       "    </tr>\n",
       "    <tr>\n",
       "      <th>788</th>\n",
       "      <td>788</td>\n",
       "      <td>917.923442</td>\n",
       "      <td>73.249717</td>\n",
       "      <td>42.101739</td>\n",
       "      <td>4.132698</td>\n",
       "      <td>64.284969</td>\n",
       "      <td>5.345258</td>\n",
       "      <td>0.000</td>\n",
       "      <td>NaN</td>\n",
       "      <td>6.939692</td>\n",
       "      <td>18.793825</td>\n",
       "    </tr>\n",
       "    <tr>\n",
       "      <th>840</th>\n",
       "      <td>840</td>\n",
       "      <td>918.043767</td>\n",
       "      <td>NaN</td>\n",
       "      <td>181.774042</td>\n",
       "      <td>0.964376</td>\n",
       "      <td>185.618601</td>\n",
       "      <td>1.570007</td>\n",
       "      <td>0.000</td>\n",
       "      <td>0.000000</td>\n",
       "      <td>11.911222</td>\n",
       "      <td>18.154358</td>\n",
       "    </tr>\n",
       "    <tr>\n",
       "      <th>848</th>\n",
       "      <td>848</td>\n",
       "      <td>915.250000</td>\n",
       "      <td>37.562000</td>\n",
       "      <td>246.500000</td>\n",
       "      <td>11.587349</td>\n",
       "      <td>258.700000</td>\n",
       "      <td>NaN</td>\n",
       "      <td>3.171</td>\n",
       "      <td>2891.000000</td>\n",
       "      <td>91.000000</td>\n",
       "      <td>90.780000</td>\n",
       "    </tr>\n",
       "    <tr>\n",
       "      <th>861</th>\n",
       "      <td>861</td>\n",
       "      <td>919.065408</td>\n",
       "      <td>NaN</td>\n",
       "      <td>172.303728</td>\n",
       "      <td>2.639600</td>\n",
       "      <td>193.058141</td>\n",
       "      <td>3.326949</td>\n",
       "      <td>0.000</td>\n",
       "      <td>0.000000</td>\n",
       "      <td>12.497839</td>\n",
       "      <td>13.438518</td>\n",
       "    </tr>\n",
       "    <tr>\n",
       "      <th>869</th>\n",
       "      <td>869</td>\n",
       "      <td>NaN</td>\n",
       "      <td>45.104000</td>\n",
       "      <td>259.000000</td>\n",
       "      <td>3.265932</td>\n",
       "      <td>275.000000</td>\n",
       "      <td>4.026492</td>\n",
       "      <td>0.000</td>\n",
       "      <td>80.000000</td>\n",
       "      <td>85.270000</td>\n",
       "      <td>90.260000</td>\n",
       "    </tr>\n",
       "    <tr>\n",
       "      <th>998</th>\n",
       "      <td>998</td>\n",
       "      <td>914.140000</td>\n",
       "      <td>71.240000</td>\n",
       "      <td>NaN</td>\n",
       "      <td>1.722444</td>\n",
       "      <td>232.900000</td>\n",
       "      <td>2.326418</td>\n",
       "      <td>0.000</td>\n",
       "      <td>0.000000</td>\n",
       "      <td>24.200000</td>\n",
       "      <td>41.380000</td>\n",
       "    </tr>\n",
       "    <tr>\n",
       "      <th>1031</th>\n",
       "      <td>1031</td>\n",
       "      <td>922.669195</td>\n",
       "      <td>NaN</td>\n",
       "      <td>47.946284</td>\n",
       "      <td>7.969686</td>\n",
       "      <td>65.770066</td>\n",
       "      <td>10.262337</td>\n",
       "      <td>0.000</td>\n",
       "      <td>0.000000</td>\n",
       "      <td>18.920805</td>\n",
       "      <td>19.641841</td>\n",
       "    </tr>\n",
       "    <tr>\n",
       "      <th>1035</th>\n",
       "      <td>1035</td>\n",
       "      <td>919.670000</td>\n",
       "      <td>77.576000</td>\n",
       "      <td>171.800000</td>\n",
       "      <td>6.554234</td>\n",
       "      <td>191.000000</td>\n",
       "      <td>8.164831</td>\n",
       "      <td>0.000</td>\n",
       "      <td>NaN</td>\n",
       "      <td>56.860000</td>\n",
       "      <td>50.650000</td>\n",
       "    </tr>\n",
       "    <tr>\n",
       "      <th>1063</th>\n",
       "      <td>1063</td>\n",
       "      <td>917.300185</td>\n",
       "      <td>65.790001</td>\n",
       "      <td>NaN</td>\n",
       "      <td>1.879553</td>\n",
       "      <td>222.498226</td>\n",
       "      <td>2.692862</td>\n",
       "      <td>0.000</td>\n",
       "      <td>0.000000</td>\n",
       "      <td>14.972668</td>\n",
       "      <td>20.966267</td>\n",
       "    </tr>\n",
       "    <tr>\n",
       "      <th>1066</th>\n",
       "      <td>1066</td>\n",
       "      <td>919.564869</td>\n",
       "      <td>73.726732</td>\n",
       "      <td>68.704694</td>\n",
       "      <td>3.551777</td>\n",
       "      <td>102.571616</td>\n",
       "      <td>4.861315</td>\n",
       "      <td>NaN</td>\n",
       "      <td>0.000000</td>\n",
       "      <td>11.657314</td>\n",
       "      <td>17.331823</td>\n",
       "    </tr>\n",
       "  </tbody>\n",
       "</table>\n",
       "</div>"
      ],
      "text/plain": [
       "      number  air_pressure_9am  air_temp_9am  avg_wind_direction_9am  \\\n",
       "16        16        917.890000           NaN              169.200000   \n",
       "111      111        915.290000     58.820000              182.600000   \n",
       "177      177        915.900000           NaN              183.300000   \n",
       "262      262        923.596607     58.380598               47.737753   \n",
       "277      277        920.480000     62.600000              194.400000   \n",
       "334      334        916.230000     75.740000              149.100000   \n",
       "358      358        917.440000     58.514000               55.100000   \n",
       "361      361        920.444946     65.801845               49.823346   \n",
       "381      381        918.480000     66.542000               90.900000   \n",
       "409      409               NaN     67.853833               65.880616   \n",
       "517      517        920.570000     53.600000              100.100000   \n",
       "519      519        916.250000     55.670000              176.400000   \n",
       "546      546               NaN     42.746000              251.100000   \n",
       "620      620        921.200000     56.786000              192.300000   \n",
       "625      625        912.400000     50.774000              171.600000   \n",
       "656      656        920.830000     66.344000                     NaN   \n",
       "670      670        910.920000     48.362000              156.500000   \n",
       "672      672        922.448945     72.863773                     NaN   \n",
       "705      705        911.900000     59.072000              199.800000   \n",
       "731      731        922.970166     51.391847               33.810942   \n",
       "737      737        917.895130     76.804690              104.771020   \n",
       "788      788        917.923442     73.249717               42.101739   \n",
       "840      840        918.043767           NaN              181.774042   \n",
       "848      848        915.250000     37.562000              246.500000   \n",
       "861      861        919.065408           NaN              172.303728   \n",
       "869      869               NaN     45.104000              259.000000   \n",
       "998      998        914.140000     71.240000                     NaN   \n",
       "1031    1031        922.669195           NaN               47.946284   \n",
       "1035    1035        919.670000     77.576000              171.800000   \n",
       "1063    1063        917.300185     65.790001                     NaN   \n",
       "1066    1066        919.564869     73.726732               68.704694   \n",
       "\n",
       "      avg_wind_speed_9am  max_wind_direction_9am  max_wind_speed_9am  \\\n",
       "16              2.192201              196.800000            2.930391   \n",
       "111            15.613841              189.000000                 NaN   \n",
       "177             4.719943              189.900000            5.346287   \n",
       "262            10.636273               67.145843           13.671423   \n",
       "277             2.751436                     NaN            3.869906   \n",
       "334             2.751436              187.500000            4.183078   \n",
       "358            10.021491                     NaN           12.705819   \n",
       "361            21.520177               61.886944           25.549112   \n",
       "381             3.467257               89.400000            4.406772   \n",
       "409             4.328594               78.570923            5.216734   \n",
       "517             4.697574                     NaN            6.285801   \n",
       "519             6.666081              188.200000                 NaN   \n",
       "546            12.929513              274.400000           17.604718   \n",
       "620             9.551734              201.400000           11.005745   \n",
       "625                  NaN              181.400000            4.831790   \n",
       "656            15.457255              189.400000           16.486248   \n",
       "670                  NaN              177.500000           16.128337   \n",
       "672             3.682370              214.196160            4.849450   \n",
       "705             1.275056              239.500000            1.834291   \n",
       "731                  NaN               59.290089           11.111555   \n",
       "737             1.632705               97.178763                 NaN   \n",
       "788             4.132698               64.284969            5.345258   \n",
       "840             0.964376              185.618601            1.570007   \n",
       "848            11.587349              258.700000                 NaN   \n",
       "861             2.639600              193.058141            3.326949   \n",
       "869             3.265932              275.000000            4.026492   \n",
       "998             1.722444              232.900000            2.326418   \n",
       "1031            7.969686               65.770066           10.262337   \n",
       "1035            6.554234              191.000000            8.164831   \n",
       "1063            1.879553              222.498226            2.692862   \n",
       "1066            3.551777              102.571616            4.861315   \n",
       "\n",
       "      rain_accumulation_9am  rain_duration_9am  relative_humidity_9am  \\\n",
       "16                    0.000           0.000000              48.990000   \n",
       "111                   0.000           0.000000              21.500000   \n",
       "177                   0.000           0.000000              29.260000   \n",
       "262                   0.000                NaN              17.990876   \n",
       "277                   0.000           0.000000              52.580000   \n",
       "334                     NaN        1480.000000              31.880000   \n",
       "358                   0.000           0.000000              13.880000   \n",
       "361                     NaN          40.364018              12.278715   \n",
       "381                     NaN           0.000000              20.640000   \n",
       "409                   0.000           0.000000              18.487385   \n",
       "517                   4.712       14842.000000              79.880000   \n",
       "519                   0.000           0.000000              72.550000   \n",
       "546                  14.627        7825.000000              87.870000   \n",
       "620                     NaN           0.000000              59.790000   \n",
       "625                   0.000           0.000000              86.840000   \n",
       "656                   0.000           0.000000              23.770000   \n",
       "670                   4.970       10560.000000              80.560000   \n",
       "672                   0.000           0.000000              16.753670   \n",
       "705                     NaN           0.000000              77.630000   \n",
       "731                   0.000           4.735034              34.807753   \n",
       "737                   0.000           0.000000              13.771311   \n",
       "788                   0.000                NaN               6.939692   \n",
       "840                   0.000           0.000000              11.911222   \n",
       "848                   3.171        2891.000000              91.000000   \n",
       "861                   0.000           0.000000              12.497839   \n",
       "869                   0.000          80.000000              85.270000   \n",
       "998                   0.000           0.000000              24.200000   \n",
       "1031                  0.000           0.000000              18.920805   \n",
       "1035                  0.000                NaN              56.860000   \n",
       "1063                  0.000           0.000000              14.972668   \n",
       "1066                    NaN           0.000000              11.657314   \n",
       "\n",
       "      relative_humidity_3pm  \n",
       "16                51.190000  \n",
       "111               29.690000  \n",
       "177               46.500000  \n",
       "262               16.461685  \n",
       "277               54.030000  \n",
       "334               32.900000  \n",
       "358               25.930000  \n",
       "361                7.618649  \n",
       "381               14.350000  \n",
       "409               20.356594  \n",
       "517               84.530000  \n",
       "519               74.390000  \n",
       "546               70.770000  \n",
       "620               77.750000  \n",
       "625               64.740000  \n",
       "656               51.630000  \n",
       "670               88.220000  \n",
       "672               17.804720  \n",
       "705               59.130000  \n",
       "731               18.418179  \n",
       "737               16.792455  \n",
       "788               18.793825  \n",
       "840               18.154358  \n",
       "848               90.780000  \n",
       "861               13.438518  \n",
       "869               90.260000  \n",
       "998               41.380000  \n",
       "1031              19.641841  \n",
       "1035              50.650000  \n",
       "1063              20.966267  \n",
       "1066              17.331823  "
      ]
     },
     "execution_count": 18,
     "metadata": {},
     "output_type": "execute_result"
    }
   ],
   "source": [
    "# Entries with NAs\n",
    "data[data.isnull().any(axis=1)]"
   ]
  },
  {
   "cell_type": "markdown",
   "metadata": {},
   "source": [
    "<p style=\"font-family: Arial; font-size:1.75em;color:purple; font-style:bold\"><br>\n",
    "\n",
    "Data Cleaning Steps<br><br></p>"
   ]
  },
  {
   "cell_type": "code",
   "execution_count": 19,
   "metadata": {},
   "outputs": [],
   "source": [
    "# Clean entries IDs\n",
    "del data['number']"
   ]
  },
  {
   "cell_type": "code",
   "execution_count": 20,
   "metadata": {},
   "outputs": [
    {
     "name": "stdout",
     "output_type": "stream",
     "text": [
      "1095\n"
     ]
    }
   ],
   "source": [
    "before_rows = data.shape[0]\n",
    "print(before_rows)"
   ]
  },
  {
   "cell_type": "code",
   "execution_count": 21,
   "metadata": {},
   "outputs": [],
   "source": [
    "data = data.dropna()"
   ]
  },
  {
   "cell_type": "code",
   "execution_count": 22,
   "metadata": {},
   "outputs": [
    {
     "name": "stdout",
     "output_type": "stream",
     "text": [
      "1064\n"
     ]
    }
   ],
   "source": [
    "after_rows = data.shape[0]\n",
    "print(after_rows)"
   ]
  },
  {
   "cell_type": "code",
   "execution_count": 23,
   "metadata": {},
   "outputs": [
    {
     "data": {
      "text/plain": [
       "31"
      ]
     },
     "execution_count": 23,
     "metadata": {},
     "output_type": "execute_result"
    }
   ],
   "source": [
    "before_rows - after_rows"
   ]
  },
  {
   "cell_type": "markdown",
   "metadata": {},
   "source": [
    "<p style=\"font-family: Arial; font-size:1.75em;color:purple; font-style:bold\">\n",
    "Convert to a Classification Task <br><br></p>\n",
    "The idea is to predict the weather in an afternoon by lookin at the same day´s morning weather.\n",
    "\n",
    "Binarize the relative_humidity_3pm to 0 or 1."
   ]
  },
  {
   "cell_type": "code",
   "execution_count": 28,
   "metadata": {},
   "outputs": [
    {
     "data": {
      "text/plain": [
       "0    1\n",
       "1    0\n",
       "2    0\n",
       "3    0\n",
       "4    1\n",
       "Name: high_humidity_label, dtype: int32"
      ]
     },
     "execution_count": 28,
     "metadata": {},
     "output_type": "execute_result"
    }
   ],
   "source": [
    "# Data without NAs\n",
    "clean_data = data.copy()\n",
    "\n",
    "# Multiply T/F values by one to turn column into integer values (0/1)\n",
    "clean_data['high_humidity_label'] = (clean_data['relative_humidity_3pm'] > 24.99) * 1\n",
    "\n",
    "# Target variable with binary values (binary classified)\n",
    "clean_data['high_humidity_label'].head()"
   ]
  },
  {
   "cell_type": "markdown",
   "metadata": {},
   "source": [
    "<p style=\"font-family: Arial; font-size:1.75em;color:purple; font-style:bold\"><br>\n",
    "\n",
    "Target is stored in 'y'.\n",
    "<br><br></p>\n"
   ]
  },
  {
   "cell_type": "code",
   "execution_count": 30,
   "metadata": {},
   "outputs": [
    {
     "data": {
      "text/html": [
       "<div>\n",
       "<style scoped>\n",
       "    .dataframe tbody tr th:only-of-type {\n",
       "        vertical-align: middle;\n",
       "    }\n",
       "\n",
       "    .dataframe tbody tr th {\n",
       "        vertical-align: top;\n",
       "    }\n",
       "\n",
       "    .dataframe thead th {\n",
       "        text-align: right;\n",
       "    }\n",
       "</style>\n",
       "<table border=\"1\" class=\"dataframe\">\n",
       "  <thead>\n",
       "    <tr style=\"text-align: right;\">\n",
       "      <th></th>\n",
       "      <th>high_humidity_label</th>\n",
       "    </tr>\n",
       "  </thead>\n",
       "  <tbody>\n",
       "    <tr>\n",
       "      <th>0</th>\n",
       "      <td>1</td>\n",
       "    </tr>\n",
       "    <tr>\n",
       "      <th>1</th>\n",
       "      <td>0</td>\n",
       "    </tr>\n",
       "    <tr>\n",
       "      <th>2</th>\n",
       "      <td>0</td>\n",
       "    </tr>\n",
       "    <tr>\n",
       "      <th>3</th>\n",
       "      <td>0</td>\n",
       "    </tr>\n",
       "    <tr>\n",
       "      <th>4</th>\n",
       "      <td>1</td>\n",
       "    </tr>\n",
       "  </tbody>\n",
       "</table>\n",
       "</div>"
      ],
      "text/plain": [
       "   high_humidity_label\n",
       "0                    1\n",
       "1                    0\n",
       "2                    0\n",
       "3                    0\n",
       "4                    1"
      ]
     },
     "execution_count": 30,
     "metadata": {},
     "output_type": "execute_result"
    }
   ],
   "source": [
    "# Labels\n",
    "y = clean_data[['high_humidity_label']].copy()\n",
    "y.head()"
   ]
  },
  {
   "cell_type": "code",
   "execution_count": 31,
   "metadata": {},
   "outputs": [
    {
     "data": {
      "text/plain": [
       "0    36.160000\n",
       "1    19.426597\n",
       "2    14.460000\n",
       "3    12.742547\n",
       "4    76.740000\n",
       "Name: relative_humidity_3pm, dtype: float64"
      ]
     },
     "execution_count": 31,
     "metadata": {},
     "output_type": "execute_result"
    }
   ],
   "source": [
    "# Confirm classification threshold --> 24.99\n",
    "clean_data['relative_humidity_3pm'].head()"
   ]
  },
  {
   "cell_type": "markdown",
   "metadata": {},
   "source": [
    "<p style=\"font-family: Arial; font-size:1.75em;color:purple; font-style:bold\"><br>\n",
    "\n",
    "Use 9am Sensor Signals as Features to Predict Humidity at 3pm\n",
    "<br><br></p>\n"
   ]
  },
  {
   "cell_type": "code",
   "execution_count": 33,
   "metadata": {},
   "outputs": [],
   "source": [
    "morning_features = ['air_pressure_9am','air_temp_9am','avg_wind_direction_9am','avg_wind_speed_9am',\n",
    "        'max_wind_direction_9am','max_wind_speed_9am','rain_accumulation_9am',\n",
    "        'rain_duration_9am']"
   ]
  },
  {
   "cell_type": "code",
   "execution_count": 35,
   "metadata": {},
   "outputs": [],
   "source": [
    "# Input\n",
    "X = clean_data[morning_features].copy()"
   ]
  },
  {
   "cell_type": "code",
   "execution_count": 36,
   "metadata": {},
   "outputs": [
    {
     "data": {
      "text/plain": [
       "Index(['air_pressure_9am', 'air_temp_9am', 'avg_wind_direction_9am',\n",
       "       'avg_wind_speed_9am', 'max_wind_direction_9am', 'max_wind_speed_9am',\n",
       "       'rain_accumulation_9am', 'rain_duration_9am'],\n",
       "      dtype='object')"
      ]
     },
     "execution_count": 36,
     "metadata": {},
     "output_type": "execute_result"
    }
   ],
   "source": [
    "X.columns"
   ]
  },
  {
   "cell_type": "code",
   "execution_count": 37,
   "metadata": {},
   "outputs": [
    {
     "data": {
      "text/plain": [
       "Index(['high_humidity_label'], dtype='object')"
      ]
     },
     "execution_count": 37,
     "metadata": {},
     "output_type": "execute_result"
    }
   ],
   "source": [
    "y.columns"
   ]
  },
  {
   "cell_type": "markdown",
   "metadata": {},
   "source": [
    "<p style=\"font-family: Arial; font-size:1.75em;color:purple; font-style:bold\"><br>\n",
    "\n",
    "Perform Test and Train split\n",
    "\n",
    "<br><br></p>\n",
    "\n"
   ]
  },
  {
   "cell_type": "markdown",
   "metadata": {},
   "source": [
    "## REMINDER: Training Phase\n",
    "\n",
    "In the **training phase**, the learning algorithm uses the training data to adjust the model’s parameters to minimize errors.  At the end of the training phase, you get the trained model.\n",
    "\n",
    "<img src=\"TrainingVSTesting.jpg\" align=\"middle\" style=\"width:550px;height:360px;\"/>\n",
    "\n",
    "<BR>\n",
    "In the **testing phase**, the trained model is applied to test data.  Test data is separate from the training data, and is previously unseen by the model.  The model is then evaluated on how it performs on the test data.  The goal in building a classifier model is to have the model perform well on training as well as test data.\n"
   ]
  },
  {
   "cell_type": "code",
   "execution_count": 38,
   "metadata": {},
   "outputs": [],
   "source": [
    "# Train with 2/3 of the data, test with 1/3\n",
    "X_train, X_test, y_train, y_test = train_test_split(X, y, test_size=0.33, random_state=324)"
   ]
  },
  {
   "cell_type": "code",
   "execution_count": 44,
   "metadata": {},
   "outputs": [
    {
     "data": {
      "text/html": [
       "<div>\n",
       "<style scoped>\n",
       "    .dataframe tbody tr th:only-of-type {\n",
       "        vertical-align: middle;\n",
       "    }\n",
       "\n",
       "    .dataframe tbody tr th {\n",
       "        vertical-align: top;\n",
       "    }\n",
       "\n",
       "    .dataframe thead th {\n",
       "        text-align: right;\n",
       "    }\n",
       "</style>\n",
       "<table border=\"1\" class=\"dataframe\">\n",
       "  <thead>\n",
       "    <tr style=\"text-align: right;\">\n",
       "      <th></th>\n",
       "      <th>high_humidity_label</th>\n",
       "    </tr>\n",
       "  </thead>\n",
       "  <tbody>\n",
       "    <tr>\n",
       "      <th>count</th>\n",
       "      <td>712.000000</td>\n",
       "    </tr>\n",
       "    <tr>\n",
       "      <th>mean</th>\n",
       "      <td>0.494382</td>\n",
       "    </tr>\n",
       "    <tr>\n",
       "      <th>std</th>\n",
       "      <td>0.500320</td>\n",
       "    </tr>\n",
       "    <tr>\n",
       "      <th>min</th>\n",
       "      <td>0.000000</td>\n",
       "    </tr>\n",
       "    <tr>\n",
       "      <th>25%</th>\n",
       "      <td>0.000000</td>\n",
       "    </tr>\n",
       "    <tr>\n",
       "      <th>50%</th>\n",
       "      <td>0.000000</td>\n",
       "    </tr>\n",
       "    <tr>\n",
       "      <th>75%</th>\n",
       "      <td>1.000000</td>\n",
       "    </tr>\n",
       "    <tr>\n",
       "      <th>max</th>\n",
       "      <td>1.000000</td>\n",
       "    </tr>\n",
       "  </tbody>\n",
       "</table>\n",
       "</div>"
      ],
      "text/plain": [
       "       high_humidity_label\n",
       "count           712.000000\n",
       "mean              0.494382\n",
       "std               0.500320\n",
       "min               0.000000\n",
       "25%               0.000000\n",
       "50%               0.000000\n",
       "75%               1.000000\n",
       "max               1.000000"
      ]
     },
     "execution_count": 44,
     "metadata": {},
     "output_type": "execute_result"
    }
   ],
   "source": [
    "# type(X_train)\n",
    "# type(X_test)\n",
    "# type(y_train)\n",
    "# type(y_test)\n",
    "# X_train.head()\n",
    "# y_train.describe()"
   ]
  },
  {
   "cell_type": "markdown",
   "metadata": {},
   "source": [
    "<p style=\"font-family: Arial; font-size:1.75em;color:purple; font-style:bold\"><br>\n",
    "\n",
    "Fit on Train Set\n",
    "<br><br></p>\n"
   ]
  },
  {
   "cell_type": "code",
   "execution_count": 45,
   "metadata": {},
   "outputs": [
    {
     "data": {
      "text/plain": [
       "DecisionTreeClassifier(class_weight=None, criterion='gini', max_depth=None,\n",
       "            max_features=None, max_leaf_nodes=10,\n",
       "            min_impurity_decrease=0.0, min_impurity_split=None,\n",
       "            min_samples_leaf=1, min_samples_split=2,\n",
       "            min_weight_fraction_leaf=0.0, presort=False, random_state=0,\n",
       "            splitter='best')"
      ]
     },
     "execution_count": 45,
     "metadata": {},
     "output_type": "execute_result"
    }
   ],
   "source": [
    "## Set-up the classifier ##\n",
    "\n",
    "# Stopping criteria for the induction tree --> 10 nodes\n",
    "# 'Random states' argument is used for splitting the nodes\n",
    "humidity_classifier = DecisionTreeClassifier(max_leaf_nodes=10, random_state=0)\n",
    "\n",
    "# Train classifier\n",
    "humidity_classifier.fit(X_train, y_train)"
   ]
  },
  {
   "cell_type": "code",
   "execution_count": 46,
   "metadata": {},
   "outputs": [
    {
     "data": {
      "text/plain": [
       "sklearn.tree.tree.DecisionTreeClassifier"
      ]
     },
     "execution_count": 46,
     "metadata": {},
     "output_type": "execute_result"
    }
   ],
   "source": [
    "type(humidity_classifier)"
   ]
  },
  {
   "cell_type": "markdown",
   "metadata": {},
   "source": [
    "<p style=\"font-family: Arial; font-size:1.75em;color:purple; font-style:bold\"><br>\n",
    "\n",
    "Predict on Test Set \n",
    "\n",
    "<br><br></p>\n"
   ]
  },
  {
   "cell_type": "code",
   "execution_count": 47,
   "metadata": {},
   "outputs": [],
   "source": [
    "# Apply trained classifier on test data\n",
    "predictions = humidity_classifier.predict(X_test)"
   ]
  },
  {
   "cell_type": "code",
   "execution_count": 48,
   "metadata": {},
   "outputs": [
    {
     "data": {
      "text/plain": [
       "array([0, 0, 1, 1, 1, 1, 0, 0, 0, 1])"
      ]
     },
     "execution_count": 48,
     "metadata": {},
     "output_type": "execute_result"
    }
   ],
   "source": [
    "# Predicted labels\n",
    "predictions[:10]"
   ]
  },
  {
   "cell_type": "code",
   "execution_count": 51,
   "metadata": {},
   "outputs": [
    {
     "data": {
      "text/plain": [
       "456     0\n",
       "845     0\n",
       "693     1\n",
       "259     1\n",
       "723     1\n",
       "224     1\n",
       "300     1\n",
       "442     0\n",
       "585     1\n",
       "1057    1\n",
       "Name: high_humidity_label, dtype: int32"
      ]
     },
     "execution_count": 51,
     "metadata": {},
     "output_type": "execute_result"
    }
   ],
   "source": [
    "# Original labels\n",
    "y_test['high_humidity_label'][:10]"
   ]
  },
  {
   "cell_type": "markdown",
   "metadata": {},
   "source": [
    "An error in the prediction occurs when the model´s PREDICTION of the class label is different from the TRUE class labeln error occurs (in the first 10 labels, we can see a couple of errors)"
   ]
  },
  {
   "cell_type": "markdown",
   "metadata": {},
   "source": [
    "<p style=\"font-family: Arial; font-size:1.75em;color:purple; font-style:bold\"><br>\n",
    "\n",
    "Measure Accuracy of the Classifier\n",
    "<br><br></p>\n"
   ]
  },
  {
   "cell_type": "code",
   "execution_count": 52,
   "metadata": {},
   "outputs": [
    {
     "data": {
      "text/plain": [
       "0.8153409090909091"
      ]
     },
     "execution_count": 52,
     "metadata": {},
     "output_type": "execute_result"
    }
   ],
   "source": [
    "accuracy_score(y_true = y_test, y_pred = predictions)"
   ]
  }
 ],
 "metadata": {
  "kernelspec": {
   "display_name": "Python 3",
   "language": "python",
   "name": "python3"
  },
  "language_info": {
   "codemirror_mode": {
    "name": "ipython",
    "version": 3
   },
   "file_extension": ".py",
   "mimetype": "text/x-python",
   "name": "python",
   "nbconvert_exporter": "python",
   "pygments_lexer": "ipython3",
   "version": "3.6.3"
  }
 },
 "nbformat": 4,
 "nbformat_minor": 2
}
