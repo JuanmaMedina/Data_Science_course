{
 "cells": [
  {
   "cell_type": "code",
   "execution_count": 24,
   "metadata": {},
   "outputs": [
    {
     "name": "stdout",
     "output_type": "stream",
     "text": [
      "mr :  602\n",
      "said :  577\n",
      "“i :  400\n",
      "one :  385\n",
      "upon :  283\n",
      "will :  265\n",
      "little :  255\n",
      "it, :  231\n",
      "him, :  226\n",
      "man :  220\n"
     ]
    }
   ],
   "source": [
    "# Python 3\n",
    "\n",
    "import collections\n",
    "import os\n",
    "\n",
    "# pwd and change it\n",
    "# print (os.getcwd())\n",
    "\n",
    "os.chdir('C:/Users/Juanma/Downloads/word_cloud')\n",
    "\n",
    "# File opening specifying the encoding to prevent reading error\n",
    "file = open('98-0.txt', encoding=\"utf8\")\n",
    "\n",
    "# Open stopwords set\n",
    "stopwords = set(line.strip() for line in open('stopwords'))\n",
    "\n",
    "# Initiate dictionary\n",
    "wordcount = {}\n",
    "\n",
    "# Read every word in the file, making them lower case and splitting by whitespaces\n",
    "for word in file.read().lower().split():\n",
    "    \n",
    "    # Remove dots, commas, etc\n",
    "    word = word.replace(\".\",\"\")\n",
    "    \n",
    "    # If word not present in stopwords set \n",
    "    if word not in stopwords:\n",
    "        \n",
    "        # If word not in dict, add it with value 1. If it is, add 1 to its value\n",
    "        if word not in wordcount:\n",
    "            wordcount[word] = 1\n",
    "        else:\n",
    "            wordcount[word] += 1\n",
    "\n",
    "# Sort the dictionary and return the first n words\n",
    "d = collections.Counter(wordcount)\n",
    "\n",
    "for word, count in d.most_common(10):\n",
    "    print(word, \": \", count)\n"
   ]
  }
 ],
 "metadata": {
  "kernelspec": {
   "display_name": "Python 3",
   "language": "python",
   "name": "python3"
  },
  "language_info": {
   "codemirror_mode": {
    "name": "ipython",
    "version": 3
   },
   "file_extension": ".py",
   "mimetype": "text/x-python",
   "name": "python",
   "nbconvert_exporter": "python",
   "pygments_lexer": "ipython3",
   "version": "3.6.3"
  }
 },
 "nbformat": 4,
 "nbformat_minor": 2
}
